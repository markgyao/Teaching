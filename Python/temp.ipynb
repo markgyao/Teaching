{
 "cells": [
  {
   "cell_type": "code",
   "execution_count": 9,
   "metadata": {},
   "outputs": [
    {
     "name": "stdout",
     "output_type": "stream",
     "text": [
      "1 0 [1]\n",
      "2 0 [1, 2]\n",
      "3 1 [1, 2, 3, 3]\n",
      "4 2 [1, 2, 3, 3, 4, 4]\n",
      "[1, 2, 3, 3, 4, 4, 6, 7]\n"
     ]
    }
   ],
   "source": [
    "# combine two sorted list\n",
    "ls1=[1,2,3,4,5]\n",
    "ls2=[3,4,6,7]\n",
    "\n",
    "i1=0\n",
    "i2=0\n",
    "ls=[]\n",
    "while True:         \n",
    "    v1=ls1[i1]\n",
    "    v2=ls2[i2]\n",
    "    if v1<v2:\n",
    "        ls.append(v1)\n",
    "        if i1<len(ls1)-1:\n",
    "            i1=i1+1\n",
    "    elif(v1==v2):\n",
    "        ls.append(v1)\n",
    "        if i1<len(ls1)-1:\n",
    "            i1=i1+1\n",
    "        ls.append(v2)\n",
    "        if i2<len(ls2)-1:\n",
    "            i2=i2+1\n",
    "    else:\n",
    "        ls.append(v2)\n",
    "        if i2<len(ls2)-1:\n",
    "            i2=i2+1\n",
    "    print(i1,i2,ls)\n",
    "    \n",
    "    if i1==len(ls1)-1:\n",
    "        while i2<=len(ls2)-1:\n",
    "            ls.append(ls2[i2])\n",
    "            i2=i2+1\n",
    "        break\n",
    "\n",
    "    if i2==len(ls2)-1:\n",
    "        while i1<=len(ls1)-1:\n",
    "            ls.append(ls1[i1])\n",
    "            i1=i1+1\n",
    "        break\n",
    "\n",
    "print(ls)"
   ]
  },
  {
   "cell_type": "code",
   "execution_count": 12,
   "metadata": {},
   "outputs": [
    {
     "ename": "SyntaxError",
     "evalue": "invalid syntax (3705939522.py, line 2)",
     "output_type": "error",
     "traceback": [
      "\u001b[0;36m  Cell \u001b[0;32mIn[12], line 2\u001b[0;36m\u001b[0m\n\u001b[0;31m    ls2 = [1,,2,5,6, 7,10]\u001b[0m\n\u001b[0m             ^\u001b[0m\n\u001b[0;31mSyntaxError\u001b[0m\u001b[0;31m:\u001b[0m invalid syntax\n"
     ]
    }
   ],
   "source": [
    "ls1 = [1, 2, 3, 4, 5]\n",
    "ls2 = [1,2,5,6, 7,10]\n",
    "\n",
    "i1, i2 = 0, 0\n",
    "merged_ls = []\n",
    "\n",
    "while i1 < len(ls1) and i2 < len(ls2):\n",
    "    if ls1[i1] < ls2[i2]:\n",
    "        merged_ls.append(ls1[i1])\n",
    "        i1 += 1\n",
    "    else:\n",
    "        merged_ls.append(ls2[i2])\n",
    "        i2 += 1\n",
    "\n",
    "# Append any remaining elements from ls1 or ls2\n",
    "merged_ls.extend(ls1[i1:])\n",
    "merged_ls.extend(ls2[i2:])\n",
    "\n",
    "print(merged_ls)"
   ]
  }
 ],
 "metadata": {
  "kernelspec": {
   "display_name": "Python 3",
   "language": "python",
   "name": "python3"
  },
  "language_info": {
   "codemirror_mode": {
    "name": "ipython",
    "version": 3
   },
   "file_extension": ".py",
   "mimetype": "text/x-python",
   "name": "python",
   "nbconvert_exporter": "python",
   "pygments_lexer": "ipython3",
   "version": "3.12.2"
  }
 },
 "nbformat": 4,
 "nbformat_minor": 2
}
