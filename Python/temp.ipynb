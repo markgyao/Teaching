{
 "cells": [
  {
   "cell_type": "markdown",
   "metadata": {},
   "source": [
    "## Python classes and objects"
   ]
  },
  {
   "cell_type": "code",
   "execution_count": null,
   "metadata": {},
   "outputs": [],
   "source": []
  },
  {
   "cell_type": "code",
   "execution_count": null,
   "metadata": {},
   "outputs": [],
   "source": [
    "from math import pi\n",
    "# area=pi*r**2\n",
    "# perimeter=pi*(2*2)\n",
    "class Circle:\n",
    "    pass\n",
    "\n",
    "c1=Circle(4.0) #the constructor take one premeter radius\n",
    "c1.area()\n",
    "c1.perimeter()\n",
    "\n",
    "\n"
   ]
  },
  {
   "cell_type": "markdown",
   "metadata": {},
   "source": [
    "A class is data structure that hold any data that it is desined for\n",
    "\n",
    "A class has following properties:\n",
    "- name\n",
    "- attributes\n",
    "- functions, methods"
   ]
  },
  {
   "cell_type": "code",
   "execution_count": 54,
   "metadata": {},
   "outputs": [
    {
     "name": "stdout",
     "output_type": "stream",
     "text": [
      "<class '__main__.UserAccount'>\n",
      "name=perter wang | email=pw@gmail.com | id=1234 | pw=ssdlfjdsljf\n"
     ]
    }
   ],
   "source": [
    "class UserAccount:\n",
    "    \"\"\"\n",
    "    This is an User Account class for a webpage\n",
    "    When create a objet from this class, you need give name, email and id as input to the constructor\n",
    "    \"\"\"\n",
    "    name=None\n",
    "    email=None\n",
    "    id=None\n",
    "    password=None\n",
    "    start_date=None\n",
    " \n",
    "    def __init__(self, user_name, user_email, user_id):\n",
    "        self.name=user_name\n",
    "        self.email=user_email\n",
    "        self.id=user_id\n",
    "    def __str__(self):\n",
    "        str=f\"name={user1.name} | email={user1.email} | id={user1.id} | pw={user1.password}\"\n",
    "        return str\n",
    "\n",
    "    def get_last_first_name(self):\n",
    "        strs=self.name.split()\n",
    "        return strs[0], strs[1]\n",
    "    \n",
    "user1=UserAccount(\"perter wang\", \"pw@gmail.com\", \"1234\")\n",
    "user1.password=\"ssdlfjdsljf\"\n",
    "user2=UserAccount(\"mark yao\",\"markgyao@gmail.com\", \"0000\")\n",
    "print(type(user1))\n",
    "print(user1)\n"
   ]
  },
  {
   "cell_type": "code",
   "execution_count": 51,
   "metadata": {},
   "outputs": [
    {
     "name": "stdout",
     "output_type": "stream",
     "text": [
      "perter wang | pw@gmail.com | 1234 | ssdlfjdsljf\n",
      "('John', 'Xu') ('John', 'Xu')\n"
     ]
    }
   ],
   "source": [
    "class AdminUserAccount(UserAccount):\n",
    "    master_password=None\n",
    "    \n",
    "    def get_master_password(self):\n",
    "        return self.master_password\n",
    "    def set_master_password(self, mpw):\n",
    "        self.master_password=mpw\n",
    "\n",
    "user3=AdminUserAccount(\"John Xu\", \"jx@gmail.com\",\"3333\")\n",
    "user3.set_master_password(\"xyzzdslfj\")\n",
    "user=user3\n",
    "\n",
    "print(f\"{user1.name} | {user1.email} | {user1.id} | {user1.password}\")\n",
    "print(user.get_last_first_name(), user.get_last_first_name())\n"
   ]
  },
  {
   "cell_type": "code",
   "execution_count": null,
   "metadata": {},
   "outputs": [],
   "source": [
    "\n",
    "\n",
    "# from datetime import datetime\n",
    "# print(datetime.today().date())\n",
    "    "
   ]
  },
  {
   "cell_type": "code",
   "execution_count": null,
   "metadata": {},
   "outputs": [],
   "source": [
    "f=open(\"data.txt\",\"r\")\n",
    "#print(f.read())\n",
    "for line in f:\n",
    "    print(line)   \n",
    "f.close()\n"
   ]
  },
  {
   "cell_type": "code",
   "execution_count": null,
   "metadata": {},
   "outputs": [],
   "source": [
    "f=open(\"data.txt\",\"a\")\n",
    "f.write(\"3rd line \\n\")\n",
    "f.close()\n",
    "f=open(\"data.txt\")\n",
    "print(f.read())\n",
    "f.close()"
   ]
  },
  {
   "cell_type": "code",
   "execution_count": null,
   "metadata": {},
   "outputs": [],
   "source": [
    "dic1={}\n",
    "dic2={1:\"mark yao\", 2:\"John Wu\", 3:\"Peter Wang\"}\n",
    "dic3={\"cup\":{\"price\":3.20, \"available\":True}, \"football\":{\"price\":20.20, \"available\":False}}\n",
    "\n",
    "#print(dic2, len(dic2))\n",
    "# print (dic2.keys(), dic2.values())\n",
    "# for k in dic2.keys():\n",
    "#     print(dic2[k])\n",
    "\n",
    "\n",
    "\n",
    "# dic2[1]=\"Peter2\"\n",
    "# dic2[1]=\"Goerge Wang\"\n",
    "print (dic2)\n",
    "# print(dic3, len(dic3))\n",
    "# print (dic3[\"cup\"])\n",
    "#dic3[\"football\"][\"price\"]\n",
    "\n",
    "print(dic2)\n",
    "dic2.pop(3)\n",
    "print(dic2)"
   ]
  },
  {
   "cell_type": "code",
   "execution_count": null,
   "metadata": {},
   "outputs": [],
   "source": []
  },
  {
   "cell_type": "code",
   "execution_count": null,
   "metadata": {},
   "outputs": [],
   "source": []
  },
  {
   "cell_type": "code",
   "execution_count": null,
   "metadata": {},
   "outputs": [],
   "source": [
    "# combine two sorted list\n",
    "ls1=[1,2,3,4,5]\n",
    "ls2=[3,4,6,7]\n",
    "\n",
    "i1=0\n",
    "i2=0\n",
    "ls=[]\n",
    "while True:         \n",
    "    v1=ls1[i1]\n",
    "    v2=ls2[i2]\n",
    "    if v1<v2:\n",
    "        ls.append(v1)\n",
    "        if i1<len(ls1)-1:\n",
    "            i1=i1+1\n",
    "    elif(v1==v2):\n",
    "        ls.append(v1)\n",
    "        if i1<len(ls1)-1:\n",
    "            i1=i1+1\n",
    "        ls.append(v2)\n",
    "        if i2<len(ls2)-1:\n",
    "            i2=i2+1\n",
    "    else:\n",
    "        ls.append(v2)\n",
    "        if i2<len(ls2)-1:\n",
    "            i2=i2+1\n",
    "    print(i1,i2,ls)\n",
    "    \n",
    "    if i1==len(ls1)-1:\n",
    "        while i2<=len(ls2)-1:\n",
    "            ls.append(ls2[i2])\n",
    "            i2=i2+1\n",
    "        break\n",
    "\n",
    "    if i2==len(ls2)-1:\n",
    "        while i1<=len(ls1)-1:\n",
    "            ls.append(ls1[i1])\n",
    "            i1=i1+1\n",
    "        break\n",
    "\n",
    "print(ls)"
   ]
  },
  {
   "cell_type": "code",
   "execution_count": null,
   "metadata": {},
   "outputs": [],
   "source": [
    "ls1 = [1, 2, 3, 4, 5]\n",
    "ls2 = [1,2,5,6, 7,10]\n",
    "\n",
    "i1, i2 = 0, 0\n",
    "merged_ls = []\n",
    "\n",
    "while i1 < len(ls1) and i2 < len(ls2):\n",
    "    if ls1[i1] < ls2[i2]:\n",
    "        merged_ls.append(ls1[i1])\n",
    "        i1 += 1\n",
    "    else:\n",
    "        merged_ls.append(ls2[i2])\n",
    "        i2 += 1\n",
    "\n",
    "# Append any remaining elements from ls1 or ls2\n",
    "merged_ls.extend(ls1[i1:])\n",
    "merged_ls.extend(ls2[i2:])\n",
    "\n",
    "print(merged_ls)"
   ]
  }
 ],
 "metadata": {
  "kernelspec": {
   "display_name": "Python 3",
   "language": "python",
   "name": "python3"
  },
  "language_info": {
   "codemirror_mode": {
    "name": "ipython",
    "version": 3
   },
   "file_extension": ".py",
   "mimetype": "text/x-python",
   "name": "python",
   "nbconvert_exporter": "python",
   "pygments_lexer": "ipython3",
   "version": "3.12.1"
  }
 },
 "nbformat": 4,
 "nbformat_minor": 2
}
