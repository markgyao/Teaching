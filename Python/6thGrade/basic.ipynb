{
 "cells": [
  {
   "cell_type": "code",
   "execution_count": null,
   "metadata": {},
   "outputs": [],
   "source": [
    "a=10\n",
    "b=15\n",
    "str1=\"hello\"\n",
    "x=11.2\n",
    "t=True #False\n",
    "print(type(a),type(b),type(str1),type(x),type(t))\n",
    "\n"
   ]
  },
  {
   "cell_type": "code",
   "execution_count": null,
   "metadata": {},
   "outputs": [],
   "source": [
    "age=input(\"enter your age\")\n",
    "grade=input(\"enter your grade\")\n",
    "print(f\"now I know your age is {age}\", f\"your grade is {grade}\")\n"
   ]
  },
  {
   "cell_type": "code",
   "execution_count": null,
   "metadata": {},
   "outputs": [],
   "source": [
    "age=input(\"enter your age\")\n",
    "if int(age)<20:\n",
    "    print(\"you are young\")\n",
    "elif int(age)>=20 and int(age)<40:\n",
    "    print(\"you are adult\")\n",
    "else:\n",
    "    print(\"you are old\")"
   ]
  },
  {
   "cell_type": "code",
   "execution_count": null,
   "metadata": {},
   "outputs": [],
   "source": [
    "# add,minus,multiply,divide of two numbers\n",
    "x1=int(input(\"what is your fist number\"))\n",
    "x2=int(input(\"what is your second number\"))\n",
    "whattodo=input(\"what do you want to do?\")\n",
    "\n",
    "# prevent  divide by zero error\n",
    "if x2==0 and whattodo==\"/\":\n",
    "    print(\"cannot divide by zero\")\n",
    "else:\n",
    "    if whattodo==\"+\":\n",
    "        print(x1+x2)\n",
    "    elif whattodo==\"-\":\n",
    "        print(x1-x2)\n",
    "    elif whattodo==\"*\":\n",
    "        print(x1*x2)\n",
    "    elif whattodo==\"/\":\n",
    "        print(x1/x2)"
   ]
  },
  {
   "cell_type": "code",
   "execution_count": null,
   "metadata": {},
   "outputs": [],
   "source": [
    "# sum from 1 to last_number using for loop\n",
    "sum=0\n",
    "last_number=100000000\n",
    "\n",
    "for i in range(1,last_number+1):\n",
    "    sum=sum+i \n",
    "\n",
    "print(f\"the sum from 1 to {last_number} is {sum}\")\n"
   ]
  },
  {
   "cell_type": "code",
   "execution_count": 4,
   "metadata": {},
   "outputs": [
    {
     "name": "stdout",
     "output_type": "stream",
     "text": [
      "the sum from 1 to 1000000000 is 500000000500000000\n"
     ]
    }
   ],
   "source": [
    "# sum from 1 to last_number using while loop\n",
    "sum=0\n",
    "last_number=1000000000\n",
    "i=1\n",
    "while i<=last_number:\n",
    "    sum=sum+i\n",
    "    i=i+1\n",
    "print(f\"the sum from 1 to {last_number} is {sum}\")\n"
   ]
  },
  {
   "cell_type": "code",
   "execution_count": 3,
   "metadata": {},
   "outputs": [
    {
     "ename": "KeyboardInterrupt",
     "evalue": "",
     "output_type": "error",
     "traceback": [
      "\u001b[0;31m---------------------------------------------------------------------------\u001b[0m",
      "\u001b[0;31mKeyboardInterrupt\u001b[0m                         Traceback (most recent call last)",
      "Cell \u001b[0;32mIn[3], line 4\u001b[0m\n\u001b[1;32m      2\u001b[0m \u001b[38;5;28msum\u001b[39m\u001b[38;5;241m=\u001b[39m\u001b[38;5;241m0\u001b[39m\n\u001b[1;32m      3\u001b[0m i\u001b[38;5;241m=\u001b[39m\u001b[38;5;241m1\u001b[39m\n\u001b[0;32m----> 4\u001b[0m \u001b[38;5;28;01mwhile\u001b[39;00m i\u001b[38;5;241m<\u001b[39m\u001b[38;5;241m=\u001b[39mlast_number:\n\u001b[1;32m      5\u001b[0m     \u001b[38;5;28msum\u001b[39m\u001b[38;5;241m=\u001b[39m\u001b[38;5;28msum\u001b[39m\u001b[38;5;241m+\u001b[39mi\n\u001b[1;32m      6\u001b[0m     i\u001b[38;5;241m=\u001b[39mi\u001b[38;5;241m+\u001b[39m\u001b[38;5;241m1\u001b[39m\n",
      "\u001b[0;31mKeyboardInterrupt\u001b[0m: "
     ]
    }
   ],
   "source": [
    "last_number=int(input(\"enter your last number\"))\n",
    "sum=0\n",
    "i=1\n",
    "while i<=last_number:\n",
    "    sum=sum+i\n",
    "    i=i+1\n",
    "print(f\"the sum from 1 to {last_number} is {sum}\")\n",
    "\n"
   ]
  },
  {
   "cell_type": "markdown",
   "metadata": {},
   "source": []
  }
 ],
 "metadata": {
  "kernelspec": {
   "display_name": "Python 3",
   "language": "python",
   "name": "python3"
  },
  "language_info": {
   "codemirror_mode": {
    "name": "ipython",
    "version": 3
   },
   "file_extension": ".py",
   "mimetype": "text/x-python",
   "name": "python",
   "nbconvert_exporter": "python",
   "pygments_lexer": "ipython3",
   "version": "3.12.1"
  }
 },
 "nbformat": 4,
 "nbformat_minor": 2
}
