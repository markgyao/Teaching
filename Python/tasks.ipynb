{
 "cells": [
  {
   "cell_type": "markdown",
   "metadata": {},
   "source": [
    "### Create temperature converter between F and C, \n",
    "C = (F − 32) × 5⁄9\n",
    "F = C(9⁄5) + 32\n",
    "\n",
    "Ask user to input tempture and unit and return the converted tempeture F->C or C-F"
   ]
  },
  {
   "cell_type": "code",
   "execution_count": null,
   "metadata": {},
   "outputs": [],
   "source": [
    "def temperature_converter():\n",
    "    temp = float(input(\"Enter the temperature: \"))\n",
    "    unit = input(\"Enter the unit (F for Fahrenheit, C for Celsius): \").upper()\n",
    "\n",
    "    if unit == 'F':\n",
    "        converted_temp = (temp - 32) * 5/9\n",
    "        print(f\"{temp}°F is {converted_temp:.2f}°C\")\n",
    "    elif unit == 'C':\n",
    "        converted_temp = (temp * 9/5) + 32\n",
    "        #print(f\"{temp}°C is {converted_temp:.2f}°F\")\n",
    "    else:\n",
    "        print(\"Invalid unit. Please enter 'F' for Fahrenheit or 'C' for Celsius.\")\n",
    "\n",
    "temperature_converter()\n"
   ]
  },
  {
   "cell_type": "markdown",
   "metadata": {},
   "source": [
    "## how many day did you lived"
   ]
  },
  {
   "cell_type": "markdown",
   "metadata": {},
   "source": [
    "from datetime import datetime\n",
    "\n",
    "def days_since_birth():\n",
    "    birthdate_str = input(\"Enter your birthdate (YYYY-MM-DD): \")\n",
    "    birthdate = datetime.strptime(birthdate_str, \"%Y-%m-%d\")\n",
    "    today = datetime.today()\n",
    "    delta = today - birthdate\n",
    "    print(f\"Number of days since {birthdate.date()} to today: {delta.days} days\")\n",
    "\n",
    "days_since_birth()\n"
   ]
  },
  {
   "cell_type": "markdown",
   "metadata": {},
   "source": []
  },
  {
   "cell_type": "code",
   "execution_count": 1,
   "metadata": {},
   "outputs": [
    {
     "name": "stdout",
     "output_type": "stream",
     "text": [
      "Number of days since 1999-02-02 to today: 9290 days\n"
     ]
    }
   ],
   "source": [
    "from datetime import datetime\n",
    "\n",
    "def days_since_birth():\n",
    "    birthdate_str = input(\"Enter your birthdate (YYYY-MM-DD): \")\n",
    "    birthdate = datetime.strptime(birthdate_str, \"%Y-%m-%d\")\n",
    "    today = datetime.today()\n",
    "    delta = today - birthdate\n",
    "    print(f\"Number of days since {birthdate.date()} to today: {delta.days} days\")\n",
    "\n",
    "days_since_birth()"
   ]
  },
  {
   "cell_type": "markdown",
   "metadata": {},
   "source": [
    "### Create a simple calculator that takes two numbers as input from the user and prints the sum, difference, product, and quotient：\n",
    "```\n",
    "def calcu(x1, x2, oprator):\n",
    "calcu(3,4, '+')\n",
    "calcu(3,4, '-')\n",
    "calcu(3,4, '/')\n",
    "calcu(3,4, '%')\n",
    "calcu(3,4, '//')\n",
    "```"
   ]
  },
  {
   "cell_type": "markdown",
   "metadata": {},
   "source": [
    "#### v0.0"
   ]
  },
  {
   "cell_type": "code",
   "execution_count": 5,
   "metadata": {},
   "outputs": [
    {
     "data": {
      "text/plain": [
       "-1"
      ]
     },
     "execution_count": 5,
     "metadata": {},
     "output_type": "execute_result"
    }
   ],
   "source": [
    "def calcu(x1,op,x2):\n",
    "    if op=='+':\n",
    "        return x1+x1\n",
    "    elif op=='-':\n",
    "        return x1-x2\n",
    "    elif op=='*':\n",
    "        return x1*x2\n",
    "    elif op=='/':\n",
    "        return x1/x2\n",
    "    elif op=='//':\n",
    "        return x1//x2\n",
    "    else:\n",
    "        return f\"Error, incorrect operator {op}\"\n",
    "calcu(4,'-',5)"
   ]
  },
  {
   "cell_type": "markdown",
   "metadata": {},
   "source": [
    "#### v0.2"
   ]
  },
  {
   "cell_type": "code",
   "execution_count": null,
   "metadata": {},
   "outputs": [],
   "source": [
    "import math\n",
    "\n",
    "def calcu(op, x1, x2=None):\n",
    "    if not isinstance(x1, (int, float)):\n",
    "        return \"Error: x1 must be a numerical type\"\n",
    "    \n",
    "    if x2 is not None and not isinstance(x2, (int, float)):\n",
    "        return \"Error: x2 must be a numerical type\"\n",
    "    \n",
    "    if op == '+':\n",
    "        return x1 + x2\n",
    "    elif op == '-':\n",
    "        return x1 - x2\n",
    "    elif op == '*':\n",
    "        return x1 * x2\n",
    "    elif op == '/':\n",
    "        return x1 / x2\n",
    "    elif op == '//':\n",
    "        return x1 // x2\n",
    "    elif op == 'sqrt':\n",
    "        return math.sqrt(x1)\n",
    "    elif op == 'sin':\n",
    "        return math.sin(math.radians(x1))\n",
    "    else:\n",
    "        return f\"Error: unsupported operation '{op}'\"\n",
    "\n",
    "# Examples:\n",
    "result1 = calcu('+', 4, 5)\n",
    "result2 = calcu('sqrt', 9)\n",
    "result3 = calcu('sin', 30)\n",
    "\n",
    "print(result1)  # Addition: 4 + 5\n",
    "print(result2)  # Square root of 9\n",
    "print(result3)  # Sine of 30 degrees\n"
   ]
  },
  {
   "cell_type": "markdown",
   "metadata": {},
   "source": [
    "## List Manipulation and Summation\n",
    "Objective: Write a program to manipulate lists and calculate the sum of specific elements.\n",
    "\n",
    "Instructions:\n",
    "\n",
    "Create a list of integers.\n",
    "Using a for loop, iterate through the list and print each element.\n",
    "Using a while loop, calculate the sum of all even numbers in the list and print the result.\n",
    "Modify the list to include only the unique elements, and print the modified list.\n",
    "```\n",
    "\n",
    "numbers = [1, 2, 3, 4, 5, 6, 7, 8, 2, 3, 4]\n",
    "List elements:\n",
    "1\n",
    "2\n",
    "3\n",
    "4\n",
    "5\n",
    "6\n",
    "7\n",
    "8\n",
    "2\n",
    "3\n",
    "4\n",
    "Sum of even numbers: 20\n",
    "Modified list with unique elements: [1, 2, 3, 4, 5, 6, 7, 8]\n",
    "```"
   ]
  },
  {
   "cell_type": "code",
   "execution_count": null,
   "metadata": {},
   "outputs": [],
   "source": [
    "# Create a list of integers\n",
    "numbers = [1, 2, 3, 4, 5, 6, 7, 8, 2, 3, 4]\n",
    "\n",
    "# Using a for loop to iterate through the list and print each element\n",
    "print(\"List elements:\")\n",
    "for num in numbers:\n",
    "    print(num)\n",
    "\n",
    "# Using a while loop to calculate the sum of all even numbers in the list\n",
    "even_sum = 0\n",
    "index = 0\n",
    "while index < len(numbers):\n",
    "    if numbers[index] % 2 == 0:\n",
    "        even_sum += numbers[index]\n",
    "    index += 1\n",
    "\n",
    "print(f\"Sum of even numbers: {even_sum}\")\n",
    "\n",
    "# Modify the list to include only the unique elements\n",
    "unique_numbers = list(set(numbers))\n",
    "print(f\"Modified list with unique elements: {unique_numbers}\")\n"
   ]
  },
  {
   "cell_type": "markdown",
   "metadata": {},
   "source": [
    "### Dictionary Operations\n",
    "Objective: Write a program to perform operations on a dictionary containing student names and their scores.\n",
    "\n",
    "Instructions:\n",
    "\n",
    "Create a dictionary with student names as keys and their scores as values.\n",
    "Using a for loop, iterate through the dictionary and print each student's name and score.\n",
    "Using a while loop, calculate and print the average score of the students.\n",
    "Add a new student to the dictionary and print the updated dictionary.\n",
    "\n",
    "```\n",
    "    students_scores = {'Alice': 85, 'Bob': 90, 'Charlie': 78, 'David': 92}\n",
    "    new_student = {'Eve': 88}\n",
    "\n",
    "    Student scores:\n",
    "    Alice: 85\n",
    "    Bob: 90\n",
    "    Charlie: 78\n",
    "    David: 92\n",
    "    Average score: 86.25\n",
    "    Updated student scores: {'Alice': 85, 'Bob': 90, 'Charlie': 78, 'David': 92, 'Eve': 88}\n",
    "\n",
    "```\n"
   ]
  },
  {
   "cell_type": "markdown",
   "metadata": {},
   "source": [
    "## Tuple and Dictionary Combination\n",
    "Objective: Write a program that uses both tuples and dictionaries to manage and manipulate data.\n",
    "\n",
    "Instructions:\n",
    "\n",
    "Create a list of tuples, where each tuple contains a student's name and their score.\n",
    "Convert this list of tuples into a dictionary.\n",
    "Using a for loop, iterate through the dictionary and print each student's name and score.\n",
    "Using a while loop, find and print the name of the student with the highest score.\n",
    "\n",
    "```\n",
    "student_tuples = [('Alice', 85), ('Bob', 90), ('Charlie', 78), ('David', 92)]\n",
    "\n",
    "Converted dictionary: {'Alice': 85, 'Bob': 90, 'Charlie': 78, 'David': 92}\n",
    "Student scores:\n",
    "Alice: 85\n",
    "Bob: 90\n",
    "Charlie: 78\n",
    "David: 92\n",
    "Student with the highest score: David\n",
    "\n",
    "```"
   ]
  },
  {
   "cell_type": "code",
   "execution_count": null,
   "metadata": {},
   "outputs": [],
   "source": [
    "# Create a list of tuples, where each tuple contains a student's name and their score\n",
    "student_tuples = [('Alice', 85), ('Bob', 90), ('Charlie', 78), ('David', 92)]\n",
    "\n",
    "# Convert this list of tuples into a dictionary\n",
    "student_dict = dict(student_tuples)\n",
    "print(f\"Converted dictionary: {student_dict}\")\n",
    "\n",
    "# Using a for loop to iterate through the dictionary and print each student's name and score\n",
    "print(\"Student scores:\")\n",
    "for student, score in student_dict.items():\n",
    "    print(f\"{student}: {score}\")\n",
    "\n",
    "# Using a while loop to find and print the name of the student with the highest score\n",
    "highest_score = -1\n",
    "highest_scoring_student = ''\n",
    "student_keys = list(student_dict.keys())\n",
    "index = 0\n",
    "while index < len(student_keys):\n",
    "    student = student_keys[index]\n",
    "    if student_dict[student] > highest_score:\n",
    "        highest_score = student_dict[student]\n",
    "        highest_scoring_student = student\n",
    "    index += 1\n",
    "\n",
    "print(f\"Student with the highest score: {highest_scoring_student}\")\n"
   ]
  },
  {
   "cell_type": "markdown",
   "metadata": {},
   "source": [
    "++++++++++++++++++++++++++++++++++++++++++++++++++++++++++++++++++++++++++++++++++++++++++++++++++ ++++++++++++++++++++++++++++++++++++++++++++++++++++++++++++++++++++++++++++++++++++++++++++++++++"
   ]
  },
  {
   "cell_type": "markdown",
   "metadata": {},
   "source": []
  },
  {
   "cell_type": "markdown",
   "metadata": {},
   "source": []
  },
  {
   "cell_type": "code",
   "execution_count": null,
   "metadata": {},
   "outputs": [],
   "source": [
    "# Create a dictionary with student names as keys and their scores as values\n",
    "students_scores = {'Alice': 85, 'Bob': 90, 'Charlie': 78, 'David': 92}\n",
    "new_student = {'Eve': 88}\n",
    "\n",
    "# Using a for loop to iterate through the dictionary and print each student's name and score\n",
    "print(\"Student scores:\")\n",
    "for student, score in students_scores.items():\n",
    "    print(f\"{student}: {score}\")\n",
    "\n",
    "# Using a while loop to calculate and print the average score of the students\n",
    "total_score = 0\n",
    "count = 0\n",
    "student_keys = list(students_scores.keys())\n",
    "index = 0\n",
    "while index < len(student_keys):\n",
    "    total_score += students_scores[student_keys[index]]\n",
    "    count += 1\n",
    "    index += 1\n",
    "\n",
    "average_score = total_score / count\n",
    "print(f\"Average score: {average_score}\")\n",
    "\n",
    "# Add a new student to the dictionary and print the updated dictionary\n",
    "students_scores.update(new_student)\n",
    "print(f\"Updated student scores: {students_scores}\")\n"
   ]
  },
  {
   "cell_type": "markdown",
   "metadata": {},
   "source": [
    "### Gussing \n",
    "\n",
    "Objective: The computer randomly selects a number between 1 and 100, and the player tries to guess the number. The computer gives hints if the guess is too high or too low.\n"
   ]
  },
  {
   "cell_type": "code",
   "execution_count": null,
   "metadata": {},
   "outputs": [],
   "source": [
    "import random\n",
    "\n",
    "number = random.randint(1, 100)\n",
    "guesses_left = 7\n",
    "\n",
    "print(\"Welcome to Guess the Number!\")\n",
    "print(\"I'm thinking of a number between 1 and 100.\")\n",
    "\n",
    "while guesses_left > 0:\n",
    "    print(f\"You have {guesses_left} guesses left.\")\n",
    "    guess = int(input(\"Enter your guess: \"))\n",
    "\n",
    "    if guess == number:\n",
    "        print(\"Congratulations! You guessed it!\")\n",
    "        break\n",
    "    elif guess < number:\n",
    "        print(\"Too low!\")\n",
    "    else:\n",
    "        print(\"Too high!\")\n",
    "\n",
    "    guesses_left -= 1\n",
    "\n",
    "if guesses_left == 0:\n",
    "    print(f\"Sorry, you ran out of guesses. The number was {number}.\")\n",
    "\n",
    "\n",
    "\"\"\"\n",
    "Explanation\n",
    "Importing the Random Library:\n",
    "\n",
    "The random library is used to generate a random number between 1 and 100.\n",
    "Generating a Random Number:\n",
    "\n",
    "random.randint(1, 100) generates a random integer between 1 and 100.\n",
    "Creating the Game Function:\n",
    "\n",
    "guess_the_number() is a function that contains the game logic.\n",
    "It initializes the number to guess and the attempt counter.\n",
    "It prompts the user to guess the number and provides feedback on each guess.\n",
    "If the guess is too high or too low, it informs the user and prompts them to try again.\n",
    "If the guess is correct, it congratulates the user and shows the number of attempts taken.\n",
    "Running the Game:\n",
    "\n",
    "Calling guess_the_number() starts the game.\n",
    "This game is simple yet covers various important Python concepts and provides interactive learning through user input and feedback.\n",
    "\n",
    "\"\"\""
   ]
  }
 ],
 "metadata": {
  "kernelspec": {
   "display_name": "Python 3",
   "language": "python",
   "name": "python3"
  },
  "language_info": {
   "codemirror_mode": {
    "name": "ipython",
    "version": 3
   },
   "file_extension": ".py",
   "mimetype": "text/x-python",
   "name": "python",
   "nbconvert_exporter": "python",
   "pygments_lexer": "ipython3",
   "version": "3.12.1"
  }
 },
 "nbformat": 4,
 "nbformat_minor": 2
}
