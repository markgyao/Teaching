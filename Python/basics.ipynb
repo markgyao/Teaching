{
 "cells": [
  {
   "cell_type": "code",
   "execution_count": null,
   "metadata": {},
   "outputs": [],
   "source": [
    "# input, output, viriable creation assignment,\n",
    "name=\"mark\"\n",
    "#name=input(\"what is your name: \")\n",
    "print(\"hello, \"+name)\n",
    "response=f\"hello (again, {name}\"\n",
    "print(response)\n",
    "\n",
    "# basic operator: +, -, *, /, **, %, //\n",
    "x=23\n",
    "y=34.5\n",
    "print(x+1)\n",
    "print(x+y)\n",
    "print(f\"x= {x}, y={y}\")\n",
    "print(x/3,x%3,x//3,x**2)\n",
    "# basic function: declare, input and output\n",
    "def sum(x,y):\n",
    "    return x+y\n",
    "print(sum(x,y))\n"
   ]
  },
  {
   "cell_type": "code",
   "execution_count": null,
   "metadata": {},
   "outputs": [],
   "source": [
    "#type\n",
    "from datetime import date\n",
    "print(type(x), type(name),type(sum))\n",
    "print(None)\n",
    "dateNow=date.today()\n",
    "print(dateNow, type(dateNow))"
   ]
  },
  {
   "cell_type": "code",
   "execution_count": null,
   "metadata": {},
   "outputs": [],
   "source": [
    "# logic operator and if...elif...else\n",
    "# logic operator, ==,!=, >,>=,<,<=, not, and, or\n",
    "x=10\n",
    "y=5\n",
    "print(x==x,x==y,x!=y)\n",
    "print(x<=y,x<y)\n",
    "print(not(x<=y))\n",
    "\n",
    "\n",
    "print(\"x==x and x<y:\",x==x and x<y)\n",
    "\n",
    "\n",
    "ui=int(input(\"enter a number \"))\n",
    "\n",
    "if ui>=y:\n",
    "    print(f\"your input {ui} >=y\")\n",
    "elif ui<x:\n",
    "    print(f\"your input {ui} <x\")\n",
    "\n",
    "if ui>=y and ui<=x:\n",
    "    print(f\"your input {ui} is between x and y\")"
   ]
  },
  {
   "cell_type": "markdown",
   "metadata": {},
   "source": [
    "## List, Array, Tuple\n",
    "https://www.geeksforgeeks.org/python-list-vs-array-vs-tuple/"
   ]
  },
  {
   "cell_type": "code",
   "execution_count": null,
   "metadata": {},
   "outputs": [],
   "source": [
    "arr1=[3,4,7,5,6,8]\n",
    "# [3,  4,  7,  5,  6,  8]\n",
    "#  0,  1,  2,  3,  4,  5\n",
    "# -6, -5, -4, -3, -2, -1\n",
    "\n",
    "# access specific element\n",
    "print(arr1)\n",
    "print(arr1[2])\n",
    "print(arr1[-2])"
   ]
  },
  {
   "cell_type": "code",
   "execution_count": null,
   "metadata": {},
   "outputs": [],
   "source": [
    "# access ragne of elements\n",
    "print(arr1[0:3]) # from index 0 upto 3, not include 3\n",
    "print(arr1[0:]) # from index 0 upto end, include end\n",
    "print(arr1[:]) # from index 0 upto end, include end\n",
    "print(arr1[0:-1]) # from index 0 upto last, not include last"
   ]
  },
  {
   "cell_type": "code",
   "execution_count": null,
   "metadata": {},
   "outputs": [],
   "source": [
    "# access with step\n",
    "print(arr1[::1])\n",
    "\n",
    "#reverse\n",
    "print(arr1[::-1])  \n",
    "#print(arr1[-1::-2])  "
   ]
  },
  {
   "cell_type": "code",
   "execution_count": null,
   "metadata": {},
   "outputs": [],
   "source": [
    "# String as list\n",
    "txt=\"hello, world\"\n",
    "print(txt[3])\n",
    "print(txt[::-1])"
   ]
  },
  {
   "cell_type": "markdown",
   "metadata": {},
   "source": [
    "#### Array"
   ]
  },
  {
   "cell_type": "code",
   "execution_count": null,
   "metadata": {},
   "outputs": [],
   "source": [
    "## array\n",
    "# Python program to demonstrate \n",
    "# Creation of Array \n",
    "\n",
    "# importing \"array\" for array creations \n",
    "import array as arr \n",
    "\n",
    "# creating an array with integer type \n",
    "a = arr.array('i', [1, 2, 3]) \n",
    "\n",
    "# printing original array \n",
    "print (\"The new created array is : \", end =\" \") \n",
    "for i in range (0, 3): \n",
    "\tprint (a[i], end =\" \") \n",
    "print() \n",
    "\n",
    "# creating an array with float type \n",
    "b = arr.array('d', [2.5, 3.2, 3.3]) \n",
    "\n",
    "# printing original array \n",
    "print (\"The new created array is : \", end =\" \") \n",
    "for i in range (0, 3): \n",
    "\tprint (b[i], end =\" \")\n"
   ]
  },
  {
   "cell_type": "markdown",
   "metadata": {},
   "source": [
    "### Tuple"
   ]
  },
  {
   "cell_type": "code",
   "execution_count": 60,
   "metadata": {},
   "outputs": [
    {
     "name": "stdout",
     "output_type": "stream",
     "text": [
      "('orange', 'apple', 'banana')\n",
      "banana\n",
      "('orange', 'apple')\n"
     ]
    }
   ],
   "source": [
    "tuple = (\"orange\",\"apple\",\"banana\")\n",
    "print(tuple)\n",
    "\n",
    "# we can access the items in\n",
    "# the tuple by its index number\n",
    "print(tuple[2])\n",
    "\n",
    "#we can specify the range of the \n",
    "# index by specifying where to start \n",
    "# and where to end\n",
    "print(tuple[0:2])\n"
   ]
  },
  {
   "cell_type": "markdown",
   "metadata": {},
   "source": [
    "## Dictionary"
   ]
  },
  {
   "cell_type": "code",
   "execution_count": null,
   "metadata": {},
   "outputs": [],
   "source": [
    "# dictionary, key:value pair\n",
    "dct0={1:\"x\",2:\"y\",3:456}\n",
    "dct1={\"lastName\":\"Wang\", \"firstName\":\"Steve\", \"age\":1 }\n",
    "dct2={\"userData\":dct1, \"userRegisterStatus\":False}\n",
    "print(dct0)\n",
    "print(dct1)\n",
    "print(dct2)\n",
    "print(dct1[\"lastName\"])"
   ]
  },
  {
   "cell_type": "markdown",
   "metadata": {},
   "source": [
    "## Loop: for and while"
   ]
  },
  {
   "cell_type": "code",
   "execution_count": null,
   "metadata": {},
   "outputs": [],
   "source": [
    "# range function\n",
    "# z=range(10)\n",
    "# print(type(z))\n",
    "# print(range(2,10,3))\n",
    "\n",
    "# for i in range(2,10,2):\n",
    "#     print(i)\n",
    "\n",
    "x=0\n",
    "while x<10:\n",
    "    print(x)\n",
    "    # if x>=6:\n",
    "    #     break\n",
    "    x=x+1"
   ]
  },
  {
   "cell_type": "markdown",
   "metadata": {},
   "source": [
    "## using and import modules"
   ]
  },
  {
   "cell_type": "code",
   "execution_count": null,
   "metadata": {},
   "outputs": [],
   "source": [
    "import math \n",
    "\n",
    "print(math.sin(30))\n",
    "from math import sin, cos, tan, pi, degrees, radians\n",
    "print(f'{sin(30*pi/180):.4f}')\n",
    "print(f'{sin(radians(30)):.2f}')\n",
    "\n",
    "import random as rd\n",
    "\n",
    "#rd.seed(10)\n",
    "print(rd.random()) #[0,1]\n",
    "i=rd.randint(1,10) #1 to 10, both included\n",
    "print(i)\n",
    "\n",
    "rd.randrange(1,10) #[1,10), exclude 10"
   ]
  },
  {
   "cell_type": "code",
   "execution_count": null,
   "metadata": {},
   "outputs": [],
   "source": []
  }
 ],
 "metadata": {
  "language_info": {
   "name": "python"
  }
 },
 "nbformat": 4,
 "nbformat_minor": 2
}
