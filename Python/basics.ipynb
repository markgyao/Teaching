{
 "cells": [
  {
   "cell_type": "markdown",
   "metadata": {},
   "source": [
    "### Create temperature converter between F and C, \n",
    "C = (F − 32) × 5⁄9\n",
    "F = C(9⁄5) + 32\n",
    "\n",
    "Ask user to input tempture and unit and return the converted tempeture F->C or C-F"
   ]
  },
  {
   "cell_type": "code",
   "execution_count": null,
   "metadata": {},
   "outputs": [],
   "source": [
    "def temperature_converter():\n",
    "    temp = float(input(\"Enter the temperature: \"))\n",
    "    unit = input(\"Enter the unit (F for Fahrenheit, C for Celsius): \").upper()\n",
    "\n",
    "    if unit == 'F':\n",
    "        converted_temp = (temp - 32) * 5/9\n",
    "        print(f\"{temp}°F is {converted_temp:.2f}°C\")\n",
    "    elif unit == 'C':\n",
    "        converted_temp = (temp * 9/5) + 32\n",
    "        print(f\"{temp}°C is {converted_temp:.2f}°F\")\n",
    "    else:\n",
    "        print(\"Invalid unit. Please enter 'F' for Fahrenheit or 'C' for Celsius.\")\n",
    "\n",
    "temperature_converter()\n"
   ]
  },
  {
   "cell_type": "markdown",
   "metadata": {},
   "source": [
    "## how many day did you lived"
   ]
  },
  {
   "cell_type": "markdown",
   "metadata": {},
   "source": [
    "from datetime import datetime\n",
    "\n",
    "def days_since_birth():\n",
    "    birthdate_str = input(\"Enter your birthdate (YYYY-MM-DD): \")\n",
    "    birthdate = datetime.strptime(birthdate_str, \"%Y-%m-%d\")\n",
    "    today = datetime.today()\n",
    "    delta = today - birthdate\n",
    "    print(f\"Number of days since {birthdate.date()} to today: {delta.days} days\")\n",
    "\n",
    "days_since_birth()\n"
   ]
  },
  {
   "cell_type": "markdown",
   "metadata": {},
   "source": []
  },
  {
   "cell_type": "markdown",
   "metadata": {},
   "source": [
    "### Create a simple calculator that takes two numbers as input from the user and prints the sum, difference, product, and quotient：\n",
    "```\n",
    "def calcu(x1, x2, oprator):\n",
    "calcu(3,4, '+')\n",
    "calcu(3,4, '-')\n",
    "calcu(3,4, '/')\n",
    "calcu(3,4, '%')\n",
    "calcu(3,4, '//')\n",
    "```"
   ]
  },
  {
   "cell_type": "markdown",
   "metadata": {},
   "source": [
    "#### v0.0"
   ]
  },
  {
   "cell_type": "code",
   "execution_count": 5,
   "metadata": {},
   "outputs": [
    {
     "data": {
      "text/plain": [
       "-1"
      ]
     },
     "execution_count": 5,
     "metadata": {},
     "output_type": "execute_result"
    }
   ],
   "source": [
    "def calcu(x1,op,x2):\n",
    "    if op=='+':\n",
    "        return x1+x1\n",
    "    elif op=='-':\n",
    "        return x1-x2\n",
    "    elif op=='*':\n",
    "        return x1*x2\n",
    "    elif op=='/':\n",
    "        return x1/x2\n",
    "    elif op=='//':\n",
    "        return x1//x2\n",
    "    else:\n",
    "        return f\"Error, incorrect operator {op}\"\n",
    "calcu(4,'-',5)"
   ]
  },
  {
   "cell_type": "markdown",
   "metadata": {},
   "source": [
    "#### v0.2"
   ]
  },
  {
   "cell_type": "code",
   "execution_count": null,
   "metadata": {},
   "outputs": [],
   "source": [
    "import math\n",
    "\n",
    "def calcu(op, x1, x2=None):\n",
    "    if not isinstance(x1, (int, float)):\n",
    "        return \"Error: x1 must be a numerical type\"\n",
    "    \n",
    "    if x2 is not None and not isinstance(x2, (int, float)):\n",
    "        return \"Error: x2 must be a numerical type\"\n",
    "    \n",
    "    if op == '+':\n",
    "        return x1 + x2\n",
    "    elif op == '-':\n",
    "        return x1 - x2\n",
    "    elif op == '*':\n",
    "        return x1 * x2\n",
    "    elif op == '/':\n",
    "        return x1 / x2\n",
    "    elif op == '//':\n",
    "        return x1 // x2\n",
    "    elif op == 'sqrt':\n",
    "        return math.sqrt(x1)\n",
    "    elif op == 'sin':\n",
    "        return math.sin(math.radians(x1))\n",
    "    else:\n",
    "        return f\"Error: unsupported operation '{op}'\"\n",
    "\n",
    "# Examples:\n",
    "result1 = calcu('+', 4, 5)\n",
    "result2 = calcu('sqrt', 9)\n",
    "result3 = calcu('sin', 30)\n",
    "\n",
    "print(result1)  # Addition: 4 + 5\n",
    "print(result2)  # Square root of 9\n",
    "print(result3)  # Sine of 30 degrees\n"
   ]
  },
  {
   "cell_type": "markdown",
   "metadata": {},
   "source": [
    "### Gussing \n",
    "\n",
    "Objective: The computer randomly selects a number between 1 and 100, and the player tries to guess the number. The computer gives hints if the guess is too high or too low.\n"
   ]
  },
  {
   "cell_type": "code",
   "execution_count": null,
   "metadata": {},
   "outputs": [],
   "source": [
    "import random\n",
    "\n",
    "number = random.randint(1, 100)\n",
    "guesses_left = 7\n",
    "\n",
    "print(\"Welcome to Guess the Number!\")\n",
    "print(\"I'm thinking of a number between 1 and 100.\")\n",
    "\n",
    "while guesses_left > 0:\n",
    "    print(f\"You have {guesses_left} guesses left.\")\n",
    "    guess = int(input(\"Enter your guess: \"))\n",
    "\n",
    "    if guess == number:\n",
    "        print(\"Congratulations! You guessed it!\")\n",
    "        break\n",
    "    elif guess < number:\n",
    "        print(\"Too low!\")\n",
    "    else:\n",
    "        print(\"Too high!\")\n",
    "\n",
    "    guesses_left -= 1\n",
    "\n",
    "if guesses_left == 0:\n",
    "    print(f\"Sorry, you ran out of guesses. The number was {number}.\")\n",
    "\n",
    "\n",
    "\"\"\"\n",
    "Explanation\n",
    "Importing the Random Library:\n",
    "\n",
    "The random library is used to generate a random number between 1 and 100.\n",
    "Generating a Random Number:\n",
    "\n",
    "random.randint(1, 100) generates a random integer between 1 and 100.\n",
    "Creating the Game Function:\n",
    "\n",
    "guess_the_number() is a function that contains the game logic.\n",
    "It initializes the number to guess and the attempt counter.\n",
    "It prompts the user to guess the number and provides feedback on each guess.\n",
    "If the guess is too high or too low, it informs the user and prompts them to try again.\n",
    "If the guess is correct, it congratulates the user and shows the number of attempts taken.\n",
    "Running the Game:\n",
    "\n",
    "Calling guess_the_number() starts the game.\n",
    "This game is simple yet covers various important Python concepts and provides interactive learning through user input and feedback.\n",
    "\n",
    "\"\"\""
   ]
  }
 ],
 "metadata": {
  "kernelspec": {
   "display_name": "Python 3",
   "language": "python",
   "name": "python3"
  },
  "language_info": {
   "codemirror_mode": {
    "name": "ipython",
    "version": 3
   },
   "file_extension": ".py",
   "mimetype": "text/x-python",
   "name": "python",
   "nbconvert_exporter": "python",
   "pygments_lexer": "ipython3",
   "version": "3.12.1"
  }
 },
 "nbformat": 4,
 "nbformat_minor": 2
}
