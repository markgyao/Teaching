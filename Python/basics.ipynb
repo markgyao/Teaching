{
 "cells": [
  {
   "cell_type": "markdown",
   "metadata": {},
   "source": [
    "## Variables, premitive types, operattors if ... elif ... else,  functions,"
   ]
  },
  {
   "cell_type": "code",
   "execution_count": null,
   "metadata": {},
   "outputs": [],
   "source": [
    "# input, output, viriable creation assignment,\n",
    "name=\"mark\"\n",
    "#name=input(\"what is your name: \")\n",
    "print(\"hello, \"+name)\n",
    "response=f\"hello (again, {name}\"\n",
    "print(response)\n",
    "\n",
    "# basic operator: +, -, *, /, **, %, //\n",
    "x=23\n",
    "y=34.5\n",
    "print(x+1)\n",
    "print(x+y)\n",
    "print(f\"x= {x}, y={y}\")\n",
    "print(x/3,x%3,x//3,x**2)\n",
    "# basic function: declare, input and output\n",
    "def sum(x,y):\n",
    "    return x+y\n",
    "print(sum(x,y))\n"
   ]
  },
  {
   "cell_type": "code",
   "execution_count": null,
   "metadata": {},
   "outputs": [],
   "source": [
    "#type\n",
    "from datetime import date\n",
    "print(type(x), type(name),type(sum))\n",
    "print(None)\n",
    "dateNow=date.today()\n",
    "print(dateNow, type(dateNow))"
   ]
  },
  {
   "cell_type": "code",
   "execution_count": null,
   "metadata": {},
   "outputs": [],
   "source": [
    "# logic operator and if...elif...else\n",
    "# logic operator, ==,!=, >,>=,<,<=, not, and, or\n",
    "x=10\n",
    "y=5\n",
    "print(x==x,x==y,x!=y)\n",
    "print(x<=y,x<y)\n",
    "print(not(x<=y))\n",
    "\n",
    "\n",
    "print(\"x==x and x<y:\",x==x and x<y)\n",
    "\n",
    "\n",
    "ui=int(input(\"enter a number \"))\n",
    "\n",
    "if ui>=y:\n",
    "    print(f\"your input {ui} >=y\")\n",
    "elif ui<x:\n",
    "    print(f\"your input {ui} <x\")\n",
    "\n",
    "if ui>=y and ui<=x:\n",
    "    print(f\"your input {ui} is between x and y\")"
   ]
  },
  {
   "cell_type": "markdown",
   "metadata": {},
   "source": [
    "## Using and import modules"
   ]
  },
  {
   "cell_type": "code",
   "execution_count": null,
   "metadata": {},
   "outputs": [],
   "source": [
    "import math \n",
    "\n",
    "print(math.sin(30))\n",
    "from math import sin, cos, tan, pi, degrees, radians\n",
    "print(f'{sin(30*pi/180):.4f}')\n",
    "print(f'{sin(radians(30)):.2f}')\n",
    "\n",
    "import random as rd\n",
    "\n",
    "#rd.seed(10)\n",
    "print(rd.random()) #[0,1]\n",
    "i=rd.randint(1,10) #1 to 10, both included\n",
    "print(i)\n",
    "\n",
    "rd.randrange(1,10) #[1,10), exclude 10"
   ]
  },
  {
   "cell_type": "markdown",
   "metadata": {},
   "source": [
    "## Loop: for and while"
   ]
  },
  {
   "cell_type": "code",
   "execution_count": null,
   "metadata": {},
   "outputs": [],
   "source": [
    "# range function\n",
    "# z=range(10)\n",
    "# print(type(z))\n",
    "# print(range(2,10,3))\n",
    "\n",
    "# for i in range(2,10,2):\n",
    "#     print(i)\n",
    "\n",
    "x=0\n",
    "while x<10:\n",
    "    print(x)\n",
    "    # if x>=6:\n",
    "    #     break\n",
    "    x=x+1"
   ]
  },
  {
   "cell_type": "markdown",
   "metadata": {},
   "source": [
    "## List, Array, Tuple\n",
    "https://www.geeksforgeeks.org/python-list-vs-array-vs-tuple/"
   ]
  },
  {
   "cell_type": "code",
   "execution_count": null,
   "metadata": {},
   "outputs": [],
   "source": [
    "lst=[3,4,7,5,6,8]\n",
    "# [3,  4,  7,  5,  6,  8]\n",
    "#  0,  1,  2,  3,  4,  5\n",
    "# -6, -5, -4, -3, -2, -1\n",
    "\n",
    "# access specific element\n",
    "print(lst)\n",
    "print(lst[2])\n",
    "print(lst[-2])"
   ]
  },
  {
   "cell_type": "code",
   "execution_count": 16,
   "metadata": {},
   "outputs": [
    {
     "name": "stdout",
     "output_type": "stream",
     "text": [
      "[1, 1, 2]\n",
      "[1, 1, 2, 2, 34, 99, 99, 121, 199]\n",
      "[1, 1, 2, 2, 34, 99, 99, 121, 199]\n",
      "[1, 1, 2, 2, 34, 99, 99, 121]\n",
      "[2, 34, 99, 99, 121, 199]\n"
     ]
    }
   ],
   "source": [
    "# access ragne of elements\n",
    "print(lst[0:3]) # from index 0 upto 3, not include 3\n",
    "print(lst[0:]) # from index 0 upto end, include end\n",
    "print(lst[:]) # from index 0 upto end, include end\n",
    "print(lst[0:-1]) # from index 0 upto last, not include last\n",
    "print(lst[3:])"
   ]
  },
  {
   "cell_type": "code",
   "execution_count": 12,
   "metadata": {},
   "outputs": [
    {
     "name": "stdout",
     "output_type": "stream",
     "text": [
      "[3, 4, 7, 5, 6, 8]\n",
      "[8, 6, 5, 7, 4, 3]\n",
      "[3, 4, 7, 5, 6, 8]\n",
      "[234, 4, 7, 5, 6, 8]\n",
      "[4, 7, 5, 6, 8]\n",
      "[121, 34, 199, 1, 2, 99]\n",
      "[1, 2, 34, 99, 121, 199]\n"
     ]
    }
   ],
   "source": [
    "lst=[3,4,7,5,6,8]\n",
    "# access with step\n",
    "print(lst[::1])\n",
    "\n",
    "#reverse\n",
    "print(lst[::-1])  \n",
    "#print(arr1[-1::-2])  \n",
    "\n",
    "#update and remove element from list\n",
    "lst=[3,4,7,5,6,8]\n",
    "print(lst)\n",
    "lst[0]=234\n",
    "print(lst)\n",
    "del lst[0]\n",
    "print(lst)\n"
   ]
  },
  {
   "cell_type": "code",
   "execution_count": 14,
   "metadata": {},
   "outputs": [
    {
     "name": "stdout",
     "output_type": "stream",
     "text": [
      "[121, 34, 199, 1, 2, 99]\n",
      "[121, 34, 199, 1, 2, 99, 1, 2, 99]\n",
      "[1, 1, 2, 2, 34, 99, 99, 121, 199]\n"
     ]
    }
   ],
   "source": [
    "\n",
    "# some useful list functions: append, insert, extend sort\n",
    "lst=[121,34,1,2]\n",
    "lst.append(99)\n",
    "lst.insert(2,199)\n",
    "print(lst)\n",
    "lst.extend(lst[3:])\n",
    "print(lst)\n",
    "lst.sort()\n",
    "print(lst)\n",
    "\n"
   ]
  },
  {
   "cell_type": "code",
   "execution_count": null,
   "metadata": {},
   "outputs": [],
   "source": [
    "\n",
    "#find median\n",
    "from math import floor,ceil\n",
    "lst=[2,5,8,10]\n",
    "lst=[x for x in range(0,110,5)]\n",
    "print(lst)\n",
    "size=len(lst)-1\n",
    "flr=floor(size/2)\n",
    "cel=ceil(size/2)\n",
    "\n",
    "x=lst[flr] if flr==cel else (lst[flr]+lst[cel])/2\n",
    "print(x)\n",
    "\n",
    "\n",
    "\n",
    " "
   ]
  },
  {
   "cell_type": "code",
   "execution_count": null,
   "metadata": {},
   "outputs": [],
   "source": [
    "# String as list\n",
    "txt=\"hello, world\"\n",
    "print(txt[3])\n",
    "print(txt[::-1])"
   ]
  },
  {
   "cell_type": "markdown",
   "metadata": {},
   "source": [
    "List Exercise\n",
    "- given a numerical list: find mean, median\n",
    "- given a numerical list: find standard divation"
   ]
  },
  {
   "cell_type": "code",
   "execution_count": null,
   "metadata": {},
   "outputs": [],
   "source": []
  },
  {
   "cell_type": "markdown",
   "metadata": {},
   "source": [
    "#### Array"
   ]
  },
  {
   "cell_type": "code",
   "execution_count": null,
   "metadata": {},
   "outputs": [],
   "source": [
    "## array\n",
    "# Python program to demonstrate \n",
    "# Creation of Array \n",
    "\n",
    "# importing \"array\" for array creations \n",
    "import array as arr \n",
    "\n",
    "# creating an array with integer type \n",
    "a = arr.array('i', [1, 2, 3]) \n",
    "\n",
    "# printing original array \n",
    "print (\"The new created array is : \", end =\" \") \n",
    "for i in range (0, 3): \n",
    "\tprint (a[i], end =\" \") \n",
    "print() \n",
    "\n",
    "# creating an array with float type \n",
    "b = arr.array('d', [2.5, 3.2, 3.3]) \n",
    "\n",
    "# printing original array \n",
    "print (\"The new created array is : \", end =\" \") \n",
    "for i in range (0, 3): \n",
    "\tprint (b[i], end =\" \")\n"
   ]
  },
  {
   "cell_type": "markdown",
   "metadata": {},
   "source": [
    "### Tuple"
   ]
  },
  {
   "cell_type": "code",
   "execution_count": 64,
   "metadata": {},
   "outputs": [
    {
     "name": "stdout",
     "output_type": "stream",
     "text": [
      "('orange', 'apple', 'banana')\n",
      "banana\n",
      "('orange', 'apple')\n",
      "orange\n",
      "apple\n",
      "banana\n"
     ]
    }
   ],
   "source": [
    "tuple = (\"orange\",\"apple\",\"banana\")\n",
    "print(tuple)\n",
    "\n",
    "# we can access the items in\n",
    "# the tuple by its index number\n",
    "print(tuple[2])\n",
    "\n",
    "#we can specify the range of the \n",
    "# index by specifying where to start \n",
    "# and where to end\n",
    "print(tuple[0:2])\n",
    "\n",
    "for elm in tuple:\n",
    "    print(elm)\n"
   ]
  },
  {
   "cell_type": "markdown",
   "metadata": {},
   "source": [
    "## Dictionary"
   ]
  },
  {
   "cell_type": "code",
   "execution_count": 65,
   "metadata": {},
   "outputs": [
    {
     "name": "stdout",
     "output_type": "stream",
     "text": [
      "{1: 'x', 2: 'y', 3: 456}\n",
      "{'lastName': 'Wang', 'firstName': 'Steve', 'age': 1}\n",
      "{'userData': {'lastName': 'Wang', 'firstName': 'Steve', 'age': 1}, 'userRegisterStatus': False}\n",
      "Wang\n",
      "lastName Wang\n",
      "firstName Steve\n",
      "age 1\n",
      "lastName Wang\n",
      "firstName Steve\n",
      "age 1\n"
     ]
    }
   ],
   "source": [
    "# dictionary, key:value pair\n",
    "dct0={1:\"x\",2:\"y\",3:456}\n",
    "dct1={\"lastName\":\"Wang\", \"firstName\":\"Steve\", \"age\":1 }\n",
    "dct2={\"userData\":dct1, \"userRegisterStatus\":False}\n",
    "print(dct0)\n",
    "print(dct1)\n",
    "print(dct2)\n",
    "print(dct1[\"lastName\"])\n",
    "\n",
    "keys=dct1.keys()\n",
    "for key in keys:\n",
    "    print(key,dct1[key])\n",
    "\n",
    "for key, value in dct1.items():\n",
    "    print(key, value)\n"
   ]
  },
  {
   "cell_type": "code",
   "execution_count": null,
   "metadata": {},
   "outputs": [],
   "source": []
  }
 ],
 "metadata": {
  "kernelspec": {
   "display_name": "Python 3",
   "language": "python",
   "name": "python3"
  },
  "language_info": {
   "codemirror_mode": {
    "name": "ipython",
    "version": 3
   },
   "file_extension": ".py",
   "mimetype": "text/x-python",
   "name": "python",
   "nbconvert_exporter": "python",
   "pygments_lexer": "ipython3",
   "version": "3.12.2"
  }
 },
 "nbformat": 4,
 "nbformat_minor": 2
}
