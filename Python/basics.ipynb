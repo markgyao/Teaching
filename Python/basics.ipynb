{
 "cells": [
  {
   "cell_type": "code",
   "execution_count": null,
   "metadata": {},
   "outputs": [],
   "source": [
    "# input, output, viriable creation assignment,\n",
    "name=\"mark\"\n",
    "#name=input(\"what is your name: \")\n",
    "print(\"hello, \"+name)\n",
    "response=f\"hello (again, {name}\"\n",
    "print(response)\n",
    "\n",
    "# basic operator: +, -, *, /, **, %, //\n",
    "x=23\n",
    "y=34.5\n",
    "print(x+1)\n",
    "print(x+y)\n",
    "print(f\"x= {x}, y={y}\")\n",
    "print(x/3,x%3,x//3,x**2)\n",
    "# basic function: declare, input and output\n",
    "def sum(x,y):\n",
    "    return x+y\n",
    "print(sum(x,y))\n"
   ]
  },
  {
   "cell_type": "code",
   "execution_count": null,
   "metadata": {},
   "outputs": [],
   "source": [
    "#type\n",
    "from datetime import date\n",
    "print(type(x), type(name),type(sum))\n",
    "print(None)\n",
    "dateNow=date.today()\n",
    "print(dateNow, type(dateNow))"
   ]
  },
  {
   "cell_type": "code",
   "execution_count": null,
   "metadata": {},
   "outputs": [],
   "source": [
    "# logic operator and if...elif...else\n",
    "# logic operator, ==,!=, >,>=,<,<=, not, and, or\n",
    "x=10\n",
    "y=5\n",
    "print(x==x,x==y,x!=y)\n",
    "print(x<=y,x<y)\n",
    "print(not(x<=y))\n",
    "\n",
    "\n",
    "print(\"x==x and x<y:\",x==x and x<y)\n",
    "\n",
    "\n",
    "ui=int(input(\"enter a number \"))\n",
    "\n",
    "if ui>=y:\n",
    "    print(f\"your input {ui} >=y\")\n",
    "elif ui<x:\n",
    "    print(f\"your input {ui} <x\")\n",
    "\n",
    "if ui>=y and ui<=x:\n",
    "    print(f\"your input {ui} is between x and y\")"
   ]
  },
  {
   "cell_type": "markdown",
   "metadata": {},
   "source": [
    "## List, Array"
   ]
  },
  {
   "cell_type": "code",
   "execution_count": null,
   "metadata": {},
   "outputs": [],
   "source": [
    "arr1=[3,4,7,5,6,8]\n",
    "# [3,  4,  7,  5,  6,  8]\n",
    "#  0,  1,  2,  3,  4,  5\n",
    "# -6, -5, -4, -3, -2, -1\n",
    "\n",
    "# access specific element\n",
    "print(arr1)\n",
    "print(arr1[2])\n",
    "print(arr1[-2])"
   ]
  },
  {
   "cell_type": "code",
   "execution_count": null,
   "metadata": {},
   "outputs": [],
   "source": [
    "# access ragne of elements\n",
    "print(arr1[0:3]) # from index 0 upto 3, not include 3\n",
    "print(arr1[0:]) # from index 0 upto end, include end\n",
    "print(arr1[:]) # from index 0 upto end, include end\n",
    "print(arr1[0:-1]) # from index 0 upto last, not include last"
   ]
  },
  {
   "cell_type": "code",
   "execution_count": null,
   "metadata": {},
   "outputs": [],
   "source": [
    "# access with step\n",
    "print(arr1[::1])\n",
    "\n",
    "#reverse\n",
    "print(arr1[::-1])  \n",
    "#print(arr1[-1::-2])  "
   ]
  },
  {
   "cell_type": "code",
   "execution_count": null,
   "metadata": {},
   "outputs": [],
   "source": [
    "# String as list\n",
    "txt=\"hello, world\"\n",
    "print(txt[3])\n",
    "print(txt[::-1])"
   ]
  },
  {
   "cell_type": "markdown",
   "metadata": {},
   "source": [
    "## Loop: for and while"
   ]
  },
  {
   "cell_type": "code",
   "execution_count": null,
   "metadata": {},
   "outputs": [],
   "source": [
    "# range function\n",
    "# z=range(10)\n",
    "# print(type(z))\n",
    "# print(range(2,10,3))\n",
    "\n",
    "# for i in range(2,10,2):\n",
    "#     print(i)\n",
    "\n",
    "x=0\n",
    "while x<10:\n",
    "    print(x)\n",
    "    # if x>=6:\n",
    "    #     break\n",
    "    x=x+1"
   ]
  },
  {
   "cell_type": "markdown",
   "metadata": {},
   "source": [
    "## using and import modules"
   ]
  },
  {
   "cell_type": "code",
   "execution_count": 36,
   "metadata": {},
   "outputs": [
    {
     "name": "stdout",
     "output_type": "stream",
     "text": [
      "-0.9880316240928618\n",
      "0.6618463200523511\n",
      "3\n",
      "0.4569284228074387\n",
      "4\n"
     ]
    }
   ],
   "source": [
    "import math \n",
    "print(math.sin(30))\n",
    "\n",
    "import random as rd\n",
    "#rd.seed(10)\n",
    "print(rd.random())\n",
    "i=rd.randint(1,10)\n",
    "print(i)\n",
    "\n"
   ]
  }
 ],
 "metadata": {
  "language_info": {
   "name": "python"
  }
 },
 "nbformat": 4,
 "nbformat_minor": 2
}
